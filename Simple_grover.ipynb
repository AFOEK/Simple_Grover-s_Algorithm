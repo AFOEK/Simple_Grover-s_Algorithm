{
 "cells": [
  {
   "cell_type": "code",
   "execution_count": 1,
   "id": "8ef51837",
   "metadata": {},
   "outputs": [],
   "source": [
    "from qiskit import QuantumCircuit, transpile, QuantumRegister, ClassicalRegister\n",
    "from qiskit.visualization import plot_histogram\n",
    "from qiskit_aer import AerSimulator\n",
    "import matplotlib.pyplot as plt\n",
    "import json\n",
    "import math\n",
    "%matplotlib inline"
   ]
  },
  {
   "cell_type": "code",
   "execution_count": 2,
   "id": "484f006b",
   "metadata": {},
   "outputs": [],
   "source": [
    "with open(\"dns_database.json\", \"r\") as f:\n",
    "    dns_data = json.load(f)\n",
    "\n",
    "dns_record = []\n",
    "\n",
    "for domain, records in dns_data.items():\n",
    "    for rec_type, rec_value in records.items():\n",
    "        dns_record.append((domain, rec_type, rec_value))"
   ]
  },
  {
   "cell_type": "code",
   "execution_count": 3,
   "id": "5367e74d",
   "metadata": {},
   "outputs": [],
   "source": [
    "query_IP = \"23.185.0.3\"\n",
    "\n",
    "search_index = None\n",
    "for i, (_, rec_type, rec_value) in enumerate(dns_record):\n",
    "    if rec_value == query_IP:\n",
    "        search_index = i\n",
    "        break\n",
    "\n",
    "if search_index is None:\n",
    "    raise ValueError(\"Query IP not found in DNS database!\")"
   ]
  },
  {
   "cell_type": "code",
   "execution_count": 4,
   "id": "859e2f50",
   "metadata": {},
   "outputs": [
    {
     "name": "stdout",
     "output_type": "stream",
     "text": [
      "17 ('linux.com', 'A', '23.185.0.3')\n"
     ]
    }
   ],
   "source": [
    "print(search_index, dns_record[search_index])"
   ]
  },
  {
   "cell_type": "code",
   "execution_count": 5,
   "id": "3acb8547",
   "metadata": {},
   "outputs": [
    {
     "name": "stdout",
     "output_type": "stream",
     "text": [
      "Qubits required: 5 \n",
      "Data entries: 22 \n",
      "Log2 for qubits required: 4.459431618637297\n"
     ]
    }
   ],
   "source": [
    "n_entries = len(dns_record)\n",
    "n_qubits = math.ceil(math.log2(n_entries))\n",
    "print(\"Qubits required: \" + str(n_qubits),\"\\nData entries: \" + str(n_entries), \"\\nLog2 for qubits required: \" + str(math.log2(n_entries)))"
   ]
  },
  {
   "cell_type": "code",
   "execution_count": 6,
   "id": "70f417de",
   "metadata": {},
   "outputs": [
    {
     "data": {
      "text/plain": [
       "<qiskit.circuit.instructionset.InstructionSet at 0x70618251cd30>"
      ]
     },
     "execution_count": 6,
     "metadata": {},
     "output_type": "execute_result"
    }
   ],
   "source": [
    "qc = QuantumCircuit(n_qubits, n_qubits)\n",
    "qc.h(range(n_qubits))"
   ]
  },
  {
   "cell_type": "code",
   "execution_count": 7,
   "id": "fb8c8a79",
   "metadata": {},
   "outputs": [
    {
     "name": "stdout",
     "output_type": "stream",
     "text": [
      "10001 17\n"
     ]
    }
   ],
   "source": [
    "oracle = QuantumCircuit(n_qubits)\n",
    "search_bin = format(search_index, f'0{n_qubits}b')\n",
    "print(search_bin, search_index)\n",
    "for idx, bit in enumerate(reversed(search_bin)):\n",
    "    if bit == '0':\n",
    "        oracle.x(idx)\n",
    "oracle.h(n_qubits-1)\n",
    "oracle.mcx(list(range(n_qubits - 1)), n_qubits - 1)\n",
    "oracle.h(n_qubits - 1)\n",
    "for idx, bit in enumerate(reversed(search_bin)):\n",
    "    if bit == '0' :\n",
    "        oracle.x(idx)\n",
    "\n",
    "oracle_gate = oracle.to_gate()\n",
    "oracle_gate.name = \"Oracle\""
   ]
  },
  {
   "cell_type": "code",
   "execution_count": 8,
   "id": "67b88d18",
   "metadata": {},
   "outputs": [],
   "source": [
    "diffuser = QuantumCircuit(n_qubits)\n",
    "diffuser.h(range(n_qubits))\n",
    "diffuser.x(range(n_qubits))\n",
    "diffuser.h(n_qubits - 1)\n",
    "diffuser.mcx(list(range(n_qubits - 1)), n_qubits - 1)\n",
    "diffuser.h(n_qubits - 1)\n",
    "diffuser.x(range(n_qubits))\n",
    "diffuser.h(range(n_qubits))\n",
    "\n",
    "diffuser_gate = diffuser.to_gate()\n",
    "diffuser_gate.name = \"Diffuser\""
   ]
  },
  {
   "cell_type": "code",
   "execution_count": 9,
   "id": "5d26402c",
   "metadata": {},
   "outputs": [],
   "source": [
    "iterations = int((math.pi/4) * math.sqrt(n_entries))\n",
    "for _ in range(iterations):\n",
    "    qc.append(oracle_gate, range(n_qubits))\n",
    "    qc.append(diffuser_gate, range(n_qubits))"
   ]
  },
  {
   "cell_type": "code",
   "execution_count": 10,
   "id": "2aae3414",
   "metadata": {},
   "outputs": [
    {
     "data": {
      "text/plain": [
       "<qiskit.circuit.instructionset.InstructionSet at 0x7061822788e0>"
      ]
     },
     "execution_count": 10,
     "metadata": {},
     "output_type": "execute_result"
    }
   ],
   "source": [
    "qc.measure(range(n_qubits), range(n_qubits))\n",
    "# qc.draw(output=\"mpl\")"
   ]
  },
  {
   "cell_type": "code",
   "execution_count": 11,
   "id": "6ec50dcf",
   "metadata": {},
   "outputs": [],
   "source": [
    "sim = AerSimulator()\n",
    "compile_qc = transpile(qc, sim)"
   ]
  },
  {
   "cell_type": "code",
   "execution_count": 12,
   "id": "7bb7e1f2",
   "metadata": {},
   "outputs": [],
   "source": [
    "result = sim.run(compile_qc, shots=2048).result()\n",
    "counts = result.get_counts()"
   ]
  },
  {
   "cell_type": "code",
   "execution_count": 13,
   "id": "b95ccf3d",
   "metadata": {},
   "outputs": [
    {
     "name": "stdout",
     "output_type": "stream",
     "text": [
      "Measured 10001 (index: 17) -> linux.com [A] = 23.185.0.3, Counts: 1827\n",
      "Measured 00110 (index: 6) -> www.youtube.ca [AAAA] = 2607:f8b0:400b:803::200e, Counts: 12\n",
      "Measured 01111 (index: 15) -> ubuntu.com [A] = 185.125.190.29, Counts: 11\n",
      "Measured 00001 (index: 1) -> google.ca [AAAA] = 2607:f8b0:400b:80c::2004, Counts: 10\n",
      "Measured 10011 (index: 19) -> reddit.com [A] = 151.101.1.140, Counts: 10\n",
      "Measured 01110 (index: 14) -> whatsapp.com [AAAA] = 2a03:2880:f20e:c5:face:b00c:0:167, Counts: 10\n",
      "Measured 01000 (index: 8) -> x.com [A] = 172.66.0.227, Counts: 9\n",
      "Measured 00100 (index: 4) -> en.wikipedia.org [CNAME] = dyna.wikimedia.org, Counts: 9\n",
      "Measured 10101 (index: 21) -> algomau.ca [A] = 141.193.213.20, Counts: 8\n",
      "Measured 10010 (index: 18) -> linux.com [AAAA] = 2620:12a:8000::3, Counts: 8\n",
      "Measured 01001 (index: 9) -> instagram.com [A] = 31.13.80.174, Counts: 6\n",
      "Measured 01100 (index: 12) -> facebook.com [AAAA] = 2a03:2880:f10e:83:face:b00c:0:25de, Counts: 6\n",
      "Measured 00101 (index: 5) -> www.youtube.ca [A] = 172.217.1.14, Counts: 6\n",
      "Measured 00111 (index: 7) -> www.youtube.ca [CNAME] = youtube-ui.l.google.com, Counts: 6\n",
      "Measured 01101 (index: 13) -> whatsapp.com [A] = 31.13.80.53, Counts: 6\n",
      "Measured 00000 (index: 0) -> google.ca [A] = 142.251.41.36, Counts: 6\n",
      "Measured 10000 (index: 16) -> ubuntu.com [AAAA] = 2620:2d:4000:1::28, Counts: 6\n",
      "Measured 01011 (index: 11) -> facebook.com [A] = 31.13.80.36, Counts: 6\n",
      "Measured 10100 (index: 20) -> reddit.com [AAAA] = 2a04:4e42:600::396, Counts: 6\n",
      "Measured 01010 (index: 10) -> instagram.com [AAAA] = 2a03:2880:f20e:e5:face:b00c:0:4420, Counts: 5\n",
      "Measured 00011 (index: 3) -> en.wikipedia.org [AAAA] = 2620:0:861:ed1a::1, Counts: 4\n",
      "Measured 00010 (index: 2) -> en.wikipedia.org [A] = 208.80.154.224, Counts: 3\n"
     ]
    }
   ],
   "source": [
    "result = []\n",
    "\n",
    "for outcome, count in counts.items():\n",
    "    index = int(outcome, 2)\n",
    "    if index < len(dns_record):\n",
    "        domain, rec_type, rec_value = dns_record[index]\n",
    "        result.append((count, outcome, index, domain, rec_type, rec_value))\n",
    "\n",
    "result_sorted = sorted(result, key=lambda x: x[0], reverse=True)\n",
    "for count, outcome, index, domain, rec_type, rec_value in result_sorted:\n",
    "    print(f\"Measured {outcome} (index: {index}) -> {domain} [{rec_type}] = {rec_value}, Counts: {count}\")\n"
   ]
  },
  {
   "cell_type": "code",
   "execution_count": 14,
   "id": "11430569",
   "metadata": {},
   "outputs": [
    {
     "name": "stdout",
     "output_type": "stream",
     "text": [
      "Top result: linux.com [A] = 23.185.0.3\n"
     ]
    }
   ],
   "source": [
    "top_result = max(counts.items(), key=lambda x: x[1])\n",
    "index = int(top_result[0], 2)\n",
    "domain, rec_type, rec_value = dns_record[index]\n",
    "print(f\"Top result: {domain} [{rec_type}] = {rec_value}\")"
   ]
  },
  {
   "cell_type": "code",
   "execution_count": 15,
   "id": "e911693b",
   "metadata": {},
   "outputs": [
    {
     "data": {
      "image/png": "[encoded data removed]",
      "text/plain": [
       "<Figure size 640x480 with 1 Axes>"
      ]
     },
     "metadata": {},
     "output_type": "display_data"
    }
   ],
   "source": [
    "sorted_counts = {outcome: count for count, outcome, *_ in result_sorted}\n",
    "plot_histogram(sorted_counts)\n",
    "plt.show()"
   ]
  },
  {
   "cell_type": "markdown",
   "id": "3dba986a",
   "metadata": {},
   "source": [
    "# Grover's Algorithm using QRAM implementation"
   ]
  },
  {
   "cell_type": "code",
   "execution_count": 38,
   "id": "3a06580f",
   "metadata": {},
   "outputs": [
    {
     "name": "stdout",
     "output_type": "stream",
     "text": [
      "['00100100', '11011100', '11100000', '11101011', '11000111', '00001110', '11001101', '00100111', '11100011', '10101110', '00100001', '00100100', '10010100', '00110101', '11110000', '00011101', '01000000', '00000011', '00011010', '10001100', '11010100', '00010100']\n"
     ]
    }
   ],
   "source": [
    "def encode_data(val):\n",
    "    if '.' in val:\n",
    "        try:\n",
    "            octets = val.split('.')\n",
    "            return format(int(octets[-1]), '08b')\n",
    "        except:\n",
    "            pass\n",
    "    return format(abs(hash(val)) % 256, '08b')\n",
    "\n",
    "data_bin = [encode_data(value) for (_, _, value) in dns_record]\n",
    "print(data_bin)"
   ]
  },
  {
   "cell_type": "code",
   "execution_count": 39,
   "id": "098bb0dc",
   "metadata": {},
   "outputs": [
    {
     "data": {
      "text/plain": [
       "<qiskit.circuit.instructionset.InstructionSet at 0x7061602e3460>"
      ]
     },
     "execution_count": 39,
     "metadata": {},
     "output_type": "execute_result"
    }
   ],
   "source": [
    "#QRAM Implementation\n",
    "addr = QuantumRegister(n_qubits, 'addr')\n",
    "data = QuantumRegister(8 , 'data')\n",
    "c_addr = ClassicalRegister(n_qubits, 'c_addr')\n",
    "qc = QuantumCircuit(addr, data, c_addr)\n",
    "\n",
    "qc.h(addr)"
   ]
  },
  {
   "cell_type": "code",
   "execution_count": 40,
   "id": "e987426e",
   "metadata": {},
   "outputs": [],
   "source": [
    "search_octet = 29\n",
    "search_bin = format(search_octet, '08b')\n",
    "\n",
    "oracle = QuantumCircuit(8)\n",
    "for k, bit in enumerate(search_bin):\n",
    "    if bit == '0':\n",
    "        oracle.x(k)\n",
    "    \n",
    "oracle.h(7)\n",
    "oracle.mcx(list(range(7)),7)\n",
    "oracle.h(7)\n",
    "\n",
    "for k, bit in enumerate(search_bin):\n",
    "    if bit == '0':\n",
    "        oracle.x(k)\n",
    "        \n",
    "oracle_gate = oracle.to_gate()\n",
    "oracle_gate.name = \"Oracle\""
   ]
  },
  {
   "cell_type": "code",
   "execution_count": 41,
   "id": "4d8bdea9",
   "metadata": {},
   "outputs": [],
   "source": [
    "def diffuser(n):\n",
    "    qc = QuantumCircuit(n)\n",
    "    qc.h(range(n))\n",
    "    qc.x(range(n))\n",
    "    qc.h(n-1)\n",
    "\n",
    "    qc.mcx(list(range(n-1)), n-1)\n",
    "    \n",
    "    qc.h(n-1)\n",
    "    qc.x(range(n))\n",
    "    qc.h(range(n))\n",
    "    return qc\n",
    "\n",
    "diffuser_gate = diffuser(n_qubits).to_gate()\n",
    "diffuser_gate.name = \"Diffuser\""
   ]
  },
  {
   "cell_type": "code",
   "execution_count": 42,
   "id": "d8b80541",
   "metadata": {},
   "outputs": [
    {
     "data": {
      "text/plain": [
       "<qiskit.circuit.instructionset.InstructionSet at 0x70613c325870>"
      ]
     },
     "execution_count": 42,
     "metadata": {},
     "output_type": "execute_result"
    }
   ],
   "source": [
    "iterations = int((math.pi/4) * math.sqrt(n_entries))\n",
    "\n",
    "for _ in range(iterations):\n",
    "    for i, dval in enumerate(data_bin):\n",
    "        bin_addr = format(i, f\"0{n_qubits}b\")[::-1]\n",
    "        for j, bit in enumerate(bin_addr):\n",
    "            if bit == '0':\n",
    "                qc.x(addr[j])\n",
    "        for k, bit in enumerate(dval):\n",
    "            if bit == '1':\n",
    "                qc.mcx(list(addr), data[k])\n",
    "        for j, bit in enumerate(bin_addr):\n",
    "            if bit == '0':\n",
    "                qc.x(addr[j])\n",
    "    \n",
    "    qc.append(oracle_gate, data)\n",
    "\n",
    "    for i, dval in enumerate(data_bin[::-1]):\n",
    "        bin_addr = format(len(data_bin)-1-i, f\"0{n_qubits}b\")[::-1]\n",
    "        for j, bit in enumerate(bin_addr):\n",
    "            if bit == '0':\n",
    "                qc.x(addr[j])\n",
    "        for k, bit in enumerate(dval):\n",
    "            if bit == '1':\n",
    "                qc.mcx(list(addr), data[k])\n",
    "        for j, bit in enumerate(bin_addr):\n",
    "            if bit == '0':\n",
    "                qc.x(addr[j])\n",
    "\n",
    "    qc.append(diffuser_gate, addr)\n",
    "\n",
    "qc.measure(addr, c_addr)"
   ]
  },
  {
   "cell_type": "code",
   "execution_count": 43,
   "id": "be8953b5",
   "metadata": {},
   "outputs": [],
   "source": [
    "sim = AerSimulator()\n",
    "compile_qc = transpile(qc, sim)\n",
    "\n",
    "result = sim.run(compile_qc, shots=2048).result()\n",
    "counts = result.get_counts()"
   ]
  },
  {
   "cell_type": "code",
   "execution_count": 44,
   "id": "d244cac8",
   "metadata": {},
   "outputs": [
    {
     "name": "stdout",
     "output_type": "stream",
     "text": [
      "Outcome: 01111 -> idx: 15, count: 1846\n",
      "Index 15: ('ubuntu.com', 'A', '185.125.190.29') - Counts: 1846\n",
      "Outcome: 10101 -> idx: 21, count: 11\n",
      "Index 21: ('algomau.ca', 'A', '141.193.213.20') - Counts: 11\n",
      "Outcome: 01110 -> idx: 14, count: 10\n",
      "Index 14: ('whatsapp.com', 'AAAA', '2a03:2880:f20e:c5:face:b00c:0:167') - Counts: 10\n",
      "Outcome: 10111 -> idx: 23, count: 10\n",
      "Outcome: 10011 -> idx: 19, count: 9\n",
      "Index 19: ('reddit.com', 'A', '151.101.1.140') - Counts: 9\n"
     ]
    }
   ],
   "source": [
    "sorted_counts = sorted(counts.items(), key=lambda x: x[1], reverse=True)\n",
    "for outcome, count in sorted_counts[:5]:\n",
    "    idx = int(outcome.replace(' ', ''), 2)\n",
    "    print(f\"Outcome: {outcome} -> idx: {idx}, count: {count}\")\n",
    "    if idx < len(dns_record):\n",
    "        print(f\"Index {idx}: {dns_record[idx]} - Counts: {count}\")"
   ]
  },
  {
   "cell_type": "code",
   "execution_count": 45,
   "id": "9632d329",
   "metadata": {},
   "outputs": [
    {
     "data": {
      "image/png": "[encoded data removed]",
      "text/plain": [
       "<Figure size 640x480 with 1 Axes>"
      ]
     },
     "metadata": {},
     "output_type": "display_data"
    }
   ],
   "source": [
    "plot_histogram(counts)\n",
    "plt.show()"
   ]
  }
 ],
 "metadata": {
  "kernelspec": {
   "display_name": "Python 3",
   "language": "python",
   "name": "python3"
  },
  "language_info": {
   "codemirror_mode": {
    "name": "ipython",
    "version": 3
   },
   "file_extension": ".py",
   "mimetype": "text/x-python",
   "name": "python",
   "nbconvert_exporter": "python",
   "pygments_lexer": "ipython3",
   "version": "3.12.3"
  }
 },
 "nbformat": 4,
 "nbformat_minor": 5
}
